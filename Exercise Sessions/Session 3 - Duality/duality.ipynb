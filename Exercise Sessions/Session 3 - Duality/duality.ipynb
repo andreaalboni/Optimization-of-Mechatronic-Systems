{
 "cells": [
  {
   "cell_type": "markdown",
   "metadata": {},
   "source": [
    "Exercise 1"
   ]
  },
  {
   "cell_type": "code",
   "execution_count": 1,
   "metadata": {},
   "outputs": [],
   "source": [
    "import numpy as np\n",
    "import matplotlib.pyplot as plt\n",
    "import time\n",
    "from scipy.optimize import linprog\n",
    "from scipy.optimize import minimize"
   ]
  },
  {
   "cell_type": "markdown",
   "metadata": {},
   "source": [
    "    - minimize ::\n",
    "\n",
    "        c @ x\n",
    "\n",
    "    - such that ::\n",
    "\n",
    "        A_ub @ x <= b_ub\n",
    "        A_eq @ x == b_eq\n",
    "        lb <= x <= ub"
   ]
  },
  {
   "cell_type": "code",
   "execution_count": 45,
   "metadata": {},
   "outputs": [
    {
     "name": "stdout",
     "output_type": "stream",
     "text": [
      "Optimal DUAL value: 207300.0\n",
      "Optimal DUAL solution: [270.     1.5    0.41]\n",
      "----------------------------------------------------------- \n",
      "\n",
      "Optimal PRIMAL value: 207300.0\n",
      "PRIMAL Multipliers: [-270.     -1.5    -0.41]\n",
      "Optimal PRIMAL solution: [91. 11.  8.]\n"
     ]
    },
    {
     "ename": "",
     "evalue": "",
     "output_type": "error",
     "traceback": [
      "\u001b[1;31mThe Kernel crashed while executing code in the current cell or a previous cell. \n",
      "\u001b[1;31mPlease review the code in the cell(s) to identify a possible cause of the failure. \n",
      "\u001b[1;31mClick <a href='https://aka.ms/vscodeJupyterKernelCrash'>here</a> for more info. \n",
      "\u001b[1;31mView Jupyter <a href='command:jupyter.viewOutput'>log</a> for further details."
     ]
    }
   ],
   "source": [
    "A = np.array([[1, 1, 1], \n",
    "              [200, 120, 60], \n",
    "              [3000, 5000, 4000]])\n",
    "b = np.array([110, 20000, 360000])\n",
    "c_transp = np.array([1800, 2500, 2000])\n",
    "\n",
    "A_dual = -A.T\n",
    "b_dual = -c_transp\n",
    "c_dual = b\n",
    "\n",
    "# Solve the DUAL linear programming problem\n",
    "result_dual = linprog(c=c_dual, A_eq=A_dual, b_eq=b_dual)\n",
    "print(\"Optimal DUAL value:\", result_dual.fun)\n",
    "#print(\"DUAL Multipliers:\", result_dual.ineqlin.marginals)\n",
    "print(\"Optimal DUAL solution:\", result_dual.x)\n",
    "print('----------------------------------------------------------- \\n')\n",
    "\n",
    "# Solve the PRIMAL linear programming problem\n",
    "# c = -c_transp because linprog minimizes the objective function and our objective is to maximize it\n",
    "result_primal = linprog(c=-c_transp, A_ub=A, b_ub=b)\n",
    "print(\"Optimal PRIMAL value:\", -result_primal.fun)\n",
    "print(\"PRIMAL Multipliers:\", result_primal.ineqlin.marginals)\n",
    "print(\"Optimal PRIMAL solution:\", result_primal.x)"
   ]
  },
  {
   "cell_type": "code",
   "execution_count": 30,
   "metadata": {},
   "outputs": [
    {
     "name": "stdout",
     "output_type": "stream",
     "text": [
      "You should plant 91.0 acres of potatoes,\n",
      "11.0 acres of sugar beets,\n",
      "and 8.0 acres of cotton.\n",
      "The total returns are €207,300.00.\n"
     ]
    }
   ],
   "source": [
    "print(\"\"\"You should plant {} acres of potatoes,\n",
    "{} acres of sugar beets,\n",
    "and {} acres of cotton.\n",
    "The total returns are €{:,.2f}.\"\"\".format(*result_primal.x, -result_primal.fun))"
   ]
  },
  {
   "cell_type": "code",
   "execution_count": 33,
   "metadata": {},
   "outputs": [
    {
     "name": "stdout",
     "output_type": "stream",
     "text": [
      "The constraint that limits the amount of water is active, because the\n",
      "corresponding dual variable is nonzero.\n",
      "\n",
      "You should buy more water for €0.30/m³, because the dual variable\n",
      "corresponding to the water constraint is €0.41/m³ > €0.30/m³.\n",
      "This indicates that by increasing the water budget by a small quantity of\n",
      "dw m³, the expected returns will increase by €0.41×dw, which is greater than\n",
      "the cost of the water.\n",
      "\n",
      "[2.7  1.5  0.41]\n",
      "Adding 0.01 acres of land has the largest influence on the expected \n",
      "returns.\n"
     ]
    }
   ],
   "source": [
    "# Solution (1g)\n",
    "assert result_dual.x[2] > 1e-8\n",
    "print(\"\"\"The constraint that limits the amount of water is active, because the\n",
    "corresponding dual variable is nonzero.\\n\"\"\")\n",
    "\n",
    "assert result_dual.x[2] > 0.3\n",
    "print(f\"\"\"You should buy more water for €0.30/m³, because the dual variable\n",
    "corresponding to the water constraint is €{result_dual.x[2]}/m³ > €0.30/m³.\n",
    "This indicates that by increasing the water budget by a small quantity of\n",
    "dw m³, the expected returns will increase by €{result_dual.x[2]}×dw, which is greater than\n",
    "the cost of the water.\\n\"\"\")\n",
    "\n",
    "print(result_dual.x * [0.01, 1, 1])\n",
    "assert 0.01 * result_dual.x[0] > result_dual.x[1] > result_dual.x[2]\n",
    "print(f\"\"\"Adding 0.01 acres of land has the largest influence on the expected \n",
    "returns.\"\"\")"
   ]
  },
  {
   "cell_type": "markdown",
   "metadata": {},
   "source": [
    "Exercise 2"
   ]
  },
  {
   "cell_type": "code",
   "execution_count": 3,
   "metadata": {},
   "outputs": [
    {
     "name": "stdout",
     "output_type": "stream",
     "text": [
      "Optimal value: -8.128044660875021e+62\n",
      "Optimal solution: [-5.36012372e+15  2.86205398e+31]\n"
     ]
    }
   ],
   "source": [
    "# Define the objective function\n",
    "def objective(x):\n",
    "    return x[0]**4 - 2*x[1]**2 - x[1]\n",
    "\n",
    "# Define the constraint function\n",
    "def constraint(x):\n",
    "    return x[0]**2 + x[1]**2 + x[1]\n",
    "\n",
    "# Define the bounds for each variable\n",
    "bounds = [(None, None), (None, None)]\n",
    "\n",
    "# Define the constraint in the form of a dictionary\n",
    "con = {'type': 'ineq', 'fun': constraint}\n",
    "\n",
    "# Initial guess\n",
    "x0 = [0.5, 0.5]\n",
    "\n",
    "# Solve the nonlinear optimization problem\n",
    "result = minimize(objective, x0, method='SLSQP', bounds=bounds, constraints=[con])\n",
    "\n",
    "print(\"Optimal value:\", result.fun)\n",
    "print(\"Optimal solution:\", result.x)"
   ]
  },
  {
   "cell_type": "code",
   "execution_count": 4,
   "metadata": {},
   "outputs": [
    {
     "name": "stdout",
     "output_type": "stream",
     "text": [
      "Optimal value: -1.4906761290997254e+23\n",
      "Optimal solution: [7.81931417e-01 1.51990340e+06 6.21363623e+05]\n"
     ]
    }
   ],
   "source": [
    "# Define the objective function\n",
    "def objective(x):\n",
    "    return x[0] - 4*x[1] - x[2]**4\n",
    "\n",
    "# Define the constraint function\n",
    "def constraint(x):\n",
    "    return x[0] + x[1] + x[2]**3 - 2\n",
    "\n",
    "# Define the bounds for each variable\n",
    "bounds = [(0, None), (0, None), (None, None)]\n",
    "\n",
    "# Define the constraint in the form of a dictionary\n",
    "con = {'type': 'ineq', 'fun': constraint}\n",
    "\n",
    "# Initial guess\n",
    "x0 = [0.5, 0.5, 0.5]\n",
    "\n",
    "# Solve the nonlinear optimization problem\n",
    "result = minimize(objective, x0, method='SLSQP', bounds=bounds, constraints=[con])\n",
    "\n",
    "print(\"Optimal value:\", result.fun)\n",
    "print(\"Optimal solution:\", result.x)"
   ]
  }
 ],
 "metadata": {
  "kernelspec": {
   "display_name": "base",
   "language": "python",
   "name": "python3"
  },
  "language_info": {
   "codemirror_mode": {
    "name": "ipython",
    "version": 3
   },
   "file_extension": ".py",
   "mimetype": "text/x-python",
   "name": "python",
   "nbconvert_exporter": "python",
   "pygments_lexer": "ipython3",
   "version": "3.11.5"
  }
 },
 "nbformat": 4,
 "nbformat_minor": 2
}

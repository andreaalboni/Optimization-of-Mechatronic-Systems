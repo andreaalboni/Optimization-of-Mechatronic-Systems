{
 "cells": [
  {
   "cell_type": "markdown",
   "metadata": {},
   "source": [
    "# Brief introduction to CasADi\n",
    "* double zero -> structured zero, there can never be a value there\n",
    "* single zero -> just a zero, there can be a value there\n",
    "* solver fatrop -> the right one for optimal control problems\n",
    "\n",
    "# Opti\n",
    "* opti.solver('ipopt', {}, {}) -> first {} is for CasADi options, second {} is for solver options\n",
    "* opti.debug -> prints out the solver options\n",
    "* -> opti.debug.lambdas -> prints out the lambdas\n",
    "* -> opti.debug.value -> prints out the value of the objective function\n",
    "* opti.callback(lambda i, ... ) -> function executed at each iteration\n",
    "\n",
    "Always a good idea to set initial guess for the optimization problem, it helps for computation time and convergence\n",
    "* -> opti.set_initial(x, x0) -> x is the variable, x0 is the initial guess\n",
    "\n"
   ]
  }
 ],
 "metadata": {
  "kernelspec": {
   "display_name": "Python 3",
   "language": "python",
   "name": "python3"
  },
  "language_info": {
   "name": "python",
   "version": "3.10.10"
  }
 },
 "nbformat": 4,
 "nbformat_minor": 2
}
